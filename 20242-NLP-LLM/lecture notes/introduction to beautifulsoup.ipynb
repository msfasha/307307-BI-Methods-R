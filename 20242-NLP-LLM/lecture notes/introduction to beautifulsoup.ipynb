{
 "cells": [
  {
   "cell_type": "markdown",
   "metadata": {},
   "source": [
    "# **Introduction to BeautifulSoup**\n",
    "## **What is BeautifulSoup?**\n",
    "BeautifulSoup is a Python library used for **parsing HTML and XML documents**. It helps in extracting data from web pages, modifying the HTML structure, and navigating through elements efficiently.\n",
    "\n",
    "It creates a **parse tree** from page source code, allowing easy extraction of elements like titles, headings, links, and tables.\n",
    "\n",
    "### **Why Use BeautifulSoup?**\n",
    "- **Easy to Use**: Simple syntax for extracting and modifying elements.\n",
    "- **Handles Imperfect HTML**: Can parse malformed HTML and still extract useful data.\n",
    "- **Integration with Other Libraries**: Works well with `requests` for fetching web pages.\n",
    "- **Flexible Parsing**: Supports different parsers such as `html.parser`, `lxml`, and `html5lib`.\n",
    "\n",
    "## **Installing BeautifulSoup**\n",
    "To use BeautifulSoup, install it using pip:\n"
   ]
  },
  {
   "cell_type": "markdown",
   "metadata": {},
   "source": [
    "! pip install beautifulsoup4 requests lxml"
   ]
  },
  {
   "cell_type": "markdown",
   "metadata": {},
   "source": [
    "- `beautifulsoup4`: The main library for parsing HTML/XML.\n",
    "- `requests`: Helps fetch web pages.\n",
    "- `lxml`: A faster parser alternative.\n",
    "\n",
    "## **Fetching a Web Page**\n",
    "Before parsing, we need to **retrieve the webpage's source code**. We use the `requests` library:"
   ]
  },
  {
   "cell_type": "code",
   "execution_count": null,
   "metadata": {},
   "outputs": [],
   "source": [
    "import requests\n",
    "from bs4 import BeautifulSoup\n",
    "\n",
    "# Fetch the webpage\n",
    "url = \"https://example.com\"\n",
    "response = requests.get(url)\n",
    "\n",
    "# Parse HTML using BeautifulSoup\n",
    "soup = BeautifulSoup(response.text, \"html.parser\")\n",
    "\n",
    "# Print the formatted HTML\n",
    "print(soup.prettify())\n"
   ]
  },
  {
   "cell_type": "markdown",
   "metadata": {},
   "source": [
    "- `requests.get(url)`: Fetches the webpage content.\n",
    "- `soup = BeautifulSoup(response.text, \"html.parser\")`: Parses the HTML.\n",
    "- `soup.prettify()`: Beautifies and prints the HTML.\n",
    "\n",
    "## **Navigating the HTML Structure**\n",
    "### **1. Extracting the Title**"
   ]
  },
  {
   "cell_type": "code",
   "execution_count": null,
   "metadata": {},
   "outputs": [],
   "source": [
    "print(soup.title)      # Full <title> tag\n",
    "print(soup.title.text) # Title content only"
   ]
  },
  {
   "cell_type": "markdown",
   "metadata": {},
   "source": [
    "### **2. Extracting the First Heading**"
   ]
  },
  {
   "cell_type": "code",
   "execution_count": null,
   "metadata": {},
   "outputs": [],
   "source": [
    "print(soup.h1)         # First <h1> tag\n",
    "print(soup.h1.text)    # Content inside <h1>"
   ]
  },
  {
   "cell_type": "markdown",
   "metadata": {},
   "source": [
    "### **3. Finding All Links**"
   ]
  },
  {
   "cell_type": "code",
   "execution_count": null,
   "metadata": {},
   "outputs": [],
   "source": [
    "for link in soup.find_all(\"a\"):\n",
    "    print(link[\"href\"])  # Extracts URLs from <a> tags"
   ]
  },
  {
   "cell_type": "markdown",
   "metadata": {},
   "source": [
    "## **Searching for Elements**\n",
    "### **1. Finding a Specific Element by Class**"
   ]
  },
  {
   "cell_type": "code",
   "execution_count": null,
   "metadata": {},
   "outputs": [],
   "source": [
    "soup.find(\"div\", class_=\"example-class\")"
   ]
  },
  {
   "cell_type": "markdown",
   "metadata": {},
   "source": [
    "- **`.find()`** returns the first matching element.\n",
    "\n",
    "### **2. Finding Multiple Elements**"
   ]
  },
  {
   "cell_type": "code",
   "execution_count": null,
   "metadata": {},
   "outputs": [],
   "source": [
    "soup.find_all(\"p\")"
   ]
  },
  {
   "cell_type": "markdown",
   "metadata": {},
   "source": [
    "- **`.find_all()`** returns a list of matching elements.\n",
    "\n",
    "## **Modifying HTML Content**\n",
    "BeautifulSoup allows **modifying** the structure of a webpage.\n",
    "\n",
    "### **1. Changing Text Inside an Element**"
   ]
  },
  {
   "cell_type": "code",
   "execution_count": null,
   "metadata": {},
   "outputs": [],
   "source": [
    "tag = soup.find(\"h1\")\n",
    "tag.string = \"New Heading\"\n",
    "print(soup.h1)  # Modified heading"
   ]
  },
  {
   "cell_type": "markdown",
   "metadata": {},
   "source": [
    "### **2. Removing an Element**"
   ]
  },
  {
   "cell_type": "code",
   "execution_count": null,
   "metadata": {},
   "outputs": [],
   "source": [
    "soup.find(\"p\").decompose()  # Removes first <p> tag"
   ]
  },
  {
   "cell_type": "markdown",
   "metadata": {},
   "source": [
    "## **Extracting Data from a Table**\n",
    "Tables are common in web scraping. Let's extract a **table's content**:"
   ]
  },
  {
   "cell_type": "code",
   "execution_count": null,
   "metadata": {},
   "outputs": [],
   "source": [
    "table = soup.find(\"table\")\n",
    "rows = table.find_all(\"tr\")\n",
    "\n",
    "for row in rows:\n",
    "    columns = row.find_all(\"td\")\n",
    "    data = [col.text for col in columns]\n",
    "    print(data)"
   ]
  },
  {
   "cell_type": "markdown",
   "metadata": {},
   "source": [
    "- **`find(\"table\")`**: Locates the first table.\n",
    "- **`find_all(\"tr\")`**: Finds all rows.\n",
    "- **`find_all(\"td\")`**: Extracts data from columns.\n",
    "\n",
    "## **Handling Attributes**\n",
    "Extracting **attributes** like `href`, `src`, and `id`:"
   ]
  },
  {
   "cell_type": "code",
   "execution_count": null,
   "metadata": {},
   "outputs": [],
   "source": [
    "link = soup.find(\"a\")  \n",
    "print(link[\"href\"])  # Extracts the href attribute"
   ]
  },
  {
   "cell_type": "markdown",
   "metadata": {},
   "source": [
    "For images:"
   ]
  },
  {
   "cell_type": "code",
   "execution_count": null,
   "metadata": {},
   "outputs": [],
   "source": [
    "img = soup.find(\"img\")\n",
    "print(img[\"src\"])  # Gets image source URL"
   ]
  },
  {
   "cell_type": "markdown",
   "metadata": {},
   "source": [
    "## **Using CSS Selectors**\n",
    "BeautifulSoup supports CSS selectors with `.select()`:"
   ]
  },
  {
   "cell_type": "code",
   "execution_count": null,
   "metadata": {},
   "outputs": [],
   "source": [
    "soup.select(\"div.class-name\")   # Finds elements with a specific class\n",
    "soup.select(\"p > a\")            # Finds links inside paragraphs\n",
    "soup.select(\"table tr td\")      # Finds table cells"
   ]
  },
  {
   "cell_type": "markdown",
   "metadata": {},
   "source": [
    "## **Conclusion**\n",
    "BeautifulSoup is a powerful tool for **web scraping and data extraction**. It provides:\n",
    "1. **Simple navigation** through HTML structures.\n",
    "2. **Flexible element searching** using tags, classes, and attributes.\n",
    "3. **Modifications** to web content.\n",
    "4. **Data extraction from tables, links, and forms**.\n",
    "\n",
    "For large-scale projects, **combining BeautifulSoup with Selenium or Scrapy** can improve efficiency."
   ]
  }
 ],
 "metadata": {
  "kernelspec": {
   "display_name": "myenv",
   "language": "python",
   "name": "python3"
  },
  "language_info": {
   "name": "python",
   "version": "3.12.3"
  }
 },
 "nbformat": 4,
 "nbformat_minor": 2
}
